{
  "nbformat": 4,
  "nbformat_minor": 0,
  "metadata": {
    "colab": {
      "provenance": [],
      "authorship_tag": "ABX9TyM3F2bMwB8r7ERDlW12bifH",
      "include_colab_link": true
    },
    "kernelspec": {
      "name": "python3",
      "display_name": "Python 3"
    },
    "language_info": {
      "name": "python"
    }
  },
  "cells": [
    {
      "cell_type": "markdown",
      "metadata": {
        "id": "view-in-github",
        "colab_type": "text"
      },
      "source": [
        "<a href=\"https://colab.research.google.com/github/Anoop-2752/DSA/blob/main/Sorting_algorithms_2.ipynb\" target=\"_parent\"><img src=\"https://colab.research.google.com/assets/colab-badge.svg\" alt=\"Open In Colab\"/></a>"
      ]
    },
    {
      "cell_type": "markdown",
      "source": [
        "### **Sorting algorithms in Data Structures and Algorithms (DSA) are methods to rearrange elements in a list or array in a specific order, typically ascending or descending.**\n",
        "\n",
        "-  **Bubble Sort : Repeatedly compares adjacent elements and swaps them if they are in the wrong order.**\n",
        "\n",
        "- **Selection Sort : Finds the minimum (or maximum) element from the unsorted part and swaps it with the first unsorted element.**\n",
        "\n",
        "- **Insertion Sort : Builds the sorted portion of the list one element at a time by inserting each element into its correct position.**"
      ],
      "metadata": {
        "id": "aLnXqosaoSqw"
      }
    },
    {
      "cell_type": "code",
      "source": [
        "def bubble_sort(arr):\n",
        "  n = len(arr)  # defined length of arr\n",
        "\n",
        "  for passes in range(0,n):  # how many passes needed\n",
        "    for j in range(0,n-1-passes): # here 0-index, n-1-pases - boundaries\n",
        "      if (arr[j] > arr[j+1]):    # comparing nearby elements if greater or not\n",
        "        arr[j],arr[j+1] = arr[j+1],arr[j] # then swapping\n",
        "  return arr  # returning our arr\n",
        "\n",
        "unsorted_arr = [33,11,9,55,32,65]\n",
        "sorted_list = bubble_sort(unsorted_arr)\n",
        "print(\"sorted_element: \", sorted_list)"
      ],
      "metadata": {
        "colab": {
          "base_uri": "https://localhost:8080/"
        },
        "id": "fdLoyp_dgf2p",
        "outputId": "df645493-9a9c-46f3-c124-f169bb65f563"
      },
      "execution_count": 6,
      "outputs": [
        {
          "output_type": "stream",
          "name": "stdout",
          "text": [
            "sorted_element:  [9, 11, 32, 33, 55, 65]\n"
          ]
        }
      ]
    },
    {
      "cell_type": "code",
      "source": [
        "def selection_sort(arr):\n",
        "  n = len(arr)  # length of the arr\n",
        "\n",
        "  for i in range(n-1):  # iterating through the arr\n",
        "    min_index = i       # current index is the smallest\n",
        "\n",
        "    for j in range (i+1,n):       # finding the smallest element from the unsorted portion\n",
        "        if arr[j] < arr[min_index]:\n",
        "             min_index = j       # updating min_index if a smaller element is found\n",
        "    arr[i],arr[min_index] = arr[min_index],arr[i]    # swapping the smallest element with 1st element of the unsorted portion\n",
        "\n",
        "  return arr\n",
        "\n",
        "\n",
        "unsorted_arr = [33,11,9,55,32,65]\n",
        "sorted_list = selection_sort(unsorted_arr)\n",
        "print(\"sorted_element: \", sorted_list)"
      ],
      "metadata": {
        "colab": {
          "base_uri": "https://localhost:8080/"
        },
        "id": "hyFTt1nKiv5q",
        "outputId": "8b1fd36c-db40-4f7e-df0e-7f8132be9398"
      },
      "execution_count": 16,
      "outputs": [
        {
          "output_type": "stream",
          "name": "stdout",
          "text": [
            "sorted_element:  [9, 11, 32, 33, 55, 65]\n"
          ]
        }
      ]
    },
    {
      "cell_type": "code",
      "source": [
        "def insertion_sort(arr):\n",
        "    n = len(arr)\n",
        "\n",
        "    for i in range(1, n):\n",
        "        key = arr[i]\n",
        "        j = i - 1\n",
        "\n",
        "        # Compare key with elements in the sorted portion\n",
        "        while j >= 0 and key < arr[j]:\n",
        "            arr[j + 1] = arr[j]\n",
        "            j -= 1\n",
        "\n",
        "        # Insert the key at the correct position\n",
        "        arr[j + 1] = key\n",
        "\n",
        "    return arr\n",
        "\n",
        "\n",
        "unsorted_arr = [33,11,9,55,32,65]\n",
        "sorted_list = insertion_sort(unsorted_arr)\n",
        "print(\"sorted_element: \", sorted_list)\n"
      ],
      "metadata": {
        "colab": {
          "base_uri": "https://localhost:8080/"
        },
        "id": "mhEI-z4k11_6",
        "outputId": "9c99a667-7d2e-49dc-8ea5-e6aee2307645"
      },
      "execution_count": 39,
      "outputs": [
        {
          "output_type": "stream",
          "name": "stdout",
          "text": [
            "sorted_element:  [9, 11, 32, 33, 55, 65]\n"
          ]
        }
      ]
    },
    {
      "cell_type": "markdown",
      "source": [
        "## When to Use Which Algorithm?\n",
        "- Small Data or Nearly Sorted: Insertion Sort, Bubble Sort.\n",
        "- Large Datasets: Merge Sort, Quick Sort, Heap Sort.\n",
        "- Integers with Limited Range: Counting Sort, Radix Sort.\n",
        "-Linked Lists: Merge Sort (due to efficient merging)."
      ],
      "metadata": {
        "id": "IxbD1Ewa1oab"
      }
    },
    {
      "cell_type": "code",
      "source": [],
      "metadata": {
        "id": "DV2_1vKr1wGy"
      },
      "execution_count": null,
      "outputs": []
    }
  ]
}